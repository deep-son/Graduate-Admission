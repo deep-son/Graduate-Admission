{
  "nbformat": 4,
  "nbformat_minor": 0,
  "metadata": {
    "colab": {
      "name": "Graduate-Admission",
      "provenance": [],
      "collapsed_sections": [
        "twG4vpLBdvNs"
      ],
      "toc_visible": true,
      "authorship_tag": "ABX9TyNclJmsUuTy7EaB9ZfyEePg",
      "include_colab_link": true
    },
    "kernelspec": {
      "name": "python3",
      "display_name": "Python 3"
    }
  },
  "cells": [
    {
      "cell_type": "markdown",
      "metadata": {
        "id": "view-in-github",
        "colab_type": "text"
      },
      "source": [
        "<a href=\"https://colab.research.google.com/github/deep-son/Graduate-Admission/blob/master/Graduate_Admission.ipynb\" target=\"_parent\"><img src=\"https://colab.research.google.com/assets/colab-badge.svg\" alt=\"Open In Colab\"/></a>"
      ]
    },
    {
      "cell_type": "code",
      "metadata": {
        "id": "aTpuMsExMfsd",
        "colab_type": "code",
        "colab": {}
      },
      "source": [
        "import pandas as pd\n",
        "import numpy as np\n",
        "import seaborn as sns\n",
        "import matplotlib.pyplot as plt\n",
        "from sklearn import linear_model \n",
        "from sklearn.svm import SVR\n",
        "from sklearn.preprocessing import MinMaxScaler\n",
        "from sklearn.model_selection import cross_val_score\n",
        "from sklearn.tree import DecisionTreeRegressor\n",
        "from sklearn.ensemble import RandomForestRegressor,ExtraTreesRegressor\n",
        "from sklearn.pipeline import Pipeline, make_pipeline\n",
        "from sklearn.model_selection import train_test_split\n",
        "from sklearn import metrics\n",
        "from sklearn.model_selection import GridSearchCV\n",
        "from sklearn.feature_selection import SelectKBest,f_regression\n",
        "\n",
        "\n",
        "%matplotlib inline"
      ],
      "execution_count": 144,
      "outputs": []
    },
    {
      "cell_type": "markdown",
      "metadata": {
        "id": "WWvIruxieIFn",
        "colab_type": "text"
      },
      "source": [
        "### Input data"
      ]
    },
    {
      "cell_type": "code",
      "metadata": {
        "id": "vPi6CLZNMtRz",
        "colab_type": "code",
        "colab": {
          "base_uri": "https://localhost:8080/",
          "height": 363
        },
        "outputId": "84378cfb-f407-4325-a54c-ecee226c7aeb"
      },
      "source": [
        "add_df = pd.read_csv(\"./Admission_Predict_Ver1.1.csv\") \n",
        "add_df.head(10)"
      ],
      "execution_count": 2,
      "outputs": [
        {
          "output_type": "execute_result",
          "data": {
            "text/html": [
              "<div>\n",
              "<style scoped>\n",
              "    .dataframe tbody tr th:only-of-type {\n",
              "        vertical-align: middle;\n",
              "    }\n",
              "\n",
              "    .dataframe tbody tr th {\n",
              "        vertical-align: top;\n",
              "    }\n",
              "\n",
              "    .dataframe thead th {\n",
              "        text-align: right;\n",
              "    }\n",
              "</style>\n",
              "<table border=\"1\" class=\"dataframe\">\n",
              "  <thead>\n",
              "    <tr style=\"text-align: right;\">\n",
              "      <th></th>\n",
              "      <th>Serial No.</th>\n",
              "      <th>GRE Score</th>\n",
              "      <th>TOEFL Score</th>\n",
              "      <th>University Rating</th>\n",
              "      <th>SOP</th>\n",
              "      <th>LOR</th>\n",
              "      <th>CGPA</th>\n",
              "      <th>Research</th>\n",
              "      <th>Chance of Admit</th>\n",
              "    </tr>\n",
              "  </thead>\n",
              "  <tbody>\n",
              "    <tr>\n",
              "      <th>0</th>\n",
              "      <td>1</td>\n",
              "      <td>337</td>\n",
              "      <td>118</td>\n",
              "      <td>4</td>\n",
              "      <td>4.5</td>\n",
              "      <td>4.5</td>\n",
              "      <td>9.65</td>\n",
              "      <td>1</td>\n",
              "      <td>0.92</td>\n",
              "    </tr>\n",
              "    <tr>\n",
              "      <th>1</th>\n",
              "      <td>2</td>\n",
              "      <td>324</td>\n",
              "      <td>107</td>\n",
              "      <td>4</td>\n",
              "      <td>4.0</td>\n",
              "      <td>4.5</td>\n",
              "      <td>8.87</td>\n",
              "      <td>1</td>\n",
              "      <td>0.76</td>\n",
              "    </tr>\n",
              "    <tr>\n",
              "      <th>2</th>\n",
              "      <td>3</td>\n",
              "      <td>316</td>\n",
              "      <td>104</td>\n",
              "      <td>3</td>\n",
              "      <td>3.0</td>\n",
              "      <td>3.5</td>\n",
              "      <td>8.00</td>\n",
              "      <td>1</td>\n",
              "      <td>0.72</td>\n",
              "    </tr>\n",
              "    <tr>\n",
              "      <th>3</th>\n",
              "      <td>4</td>\n",
              "      <td>322</td>\n",
              "      <td>110</td>\n",
              "      <td>3</td>\n",
              "      <td>3.5</td>\n",
              "      <td>2.5</td>\n",
              "      <td>8.67</td>\n",
              "      <td>1</td>\n",
              "      <td>0.80</td>\n",
              "    </tr>\n",
              "    <tr>\n",
              "      <th>4</th>\n",
              "      <td>5</td>\n",
              "      <td>314</td>\n",
              "      <td>103</td>\n",
              "      <td>2</td>\n",
              "      <td>2.0</td>\n",
              "      <td>3.0</td>\n",
              "      <td>8.21</td>\n",
              "      <td>0</td>\n",
              "      <td>0.65</td>\n",
              "    </tr>\n",
              "    <tr>\n",
              "      <th>5</th>\n",
              "      <td>6</td>\n",
              "      <td>330</td>\n",
              "      <td>115</td>\n",
              "      <td>5</td>\n",
              "      <td>4.5</td>\n",
              "      <td>3.0</td>\n",
              "      <td>9.34</td>\n",
              "      <td>1</td>\n",
              "      <td>0.90</td>\n",
              "    </tr>\n",
              "    <tr>\n",
              "      <th>6</th>\n",
              "      <td>7</td>\n",
              "      <td>321</td>\n",
              "      <td>109</td>\n",
              "      <td>3</td>\n",
              "      <td>3.0</td>\n",
              "      <td>4.0</td>\n",
              "      <td>8.20</td>\n",
              "      <td>1</td>\n",
              "      <td>0.75</td>\n",
              "    </tr>\n",
              "    <tr>\n",
              "      <th>7</th>\n",
              "      <td>8</td>\n",
              "      <td>308</td>\n",
              "      <td>101</td>\n",
              "      <td>2</td>\n",
              "      <td>3.0</td>\n",
              "      <td>4.0</td>\n",
              "      <td>7.90</td>\n",
              "      <td>0</td>\n",
              "      <td>0.68</td>\n",
              "    </tr>\n",
              "    <tr>\n",
              "      <th>8</th>\n",
              "      <td>9</td>\n",
              "      <td>302</td>\n",
              "      <td>102</td>\n",
              "      <td>1</td>\n",
              "      <td>2.0</td>\n",
              "      <td>1.5</td>\n",
              "      <td>8.00</td>\n",
              "      <td>0</td>\n",
              "      <td>0.50</td>\n",
              "    </tr>\n",
              "    <tr>\n",
              "      <th>9</th>\n",
              "      <td>10</td>\n",
              "      <td>323</td>\n",
              "      <td>108</td>\n",
              "      <td>3</td>\n",
              "      <td>3.5</td>\n",
              "      <td>3.0</td>\n",
              "      <td>8.60</td>\n",
              "      <td>0</td>\n",
              "      <td>0.45</td>\n",
              "    </tr>\n",
              "  </tbody>\n",
              "</table>\n",
              "</div>"
            ],
            "text/plain": [
              "   Serial No.  GRE Score  TOEFL Score  ...  CGPA  Research  Chance of Admit \n",
              "0           1        337          118  ...  9.65         1              0.92\n",
              "1           2        324          107  ...  8.87         1              0.76\n",
              "2           3        316          104  ...  8.00         1              0.72\n",
              "3           4        322          110  ...  8.67         1              0.80\n",
              "4           5        314          103  ...  8.21         0              0.65\n",
              "5           6        330          115  ...  9.34         1              0.90\n",
              "6           7        321          109  ...  8.20         1              0.75\n",
              "7           8        308          101  ...  7.90         0              0.68\n",
              "8           9        302          102  ...  8.00         0              0.50\n",
              "9          10        323          108  ...  8.60         0              0.45\n",
              "\n",
              "[10 rows x 9 columns]"
            ]
          },
          "metadata": {
            "tags": []
          },
          "execution_count": 2
        }
      ]
    },
    {
      "cell_type": "code",
      "metadata": {
        "id": "apMtAqksNAGW",
        "colab_type": "code",
        "colab": {
          "base_uri": "https://localhost:8080/",
          "height": 322
        },
        "outputId": "b494ed55-1fec-4b5d-f101-577538f4b5fb"
      },
      "source": [
        "add_df.info()"
      ],
      "execution_count": 3,
      "outputs": [
        {
          "output_type": "stream",
          "text": [
            "<class 'pandas.core.frame.DataFrame'>\n",
            "RangeIndex: 500 entries, 0 to 499\n",
            "Data columns (total 9 columns):\n",
            " #   Column             Non-Null Count  Dtype  \n",
            "---  ------             --------------  -----  \n",
            " 0   Serial No.         500 non-null    int64  \n",
            " 1   GRE Score          500 non-null    int64  \n",
            " 2   TOEFL Score        500 non-null    int64  \n",
            " 3   University Rating  500 non-null    int64  \n",
            " 4   SOP                500 non-null    float64\n",
            " 5   LOR                500 non-null    float64\n",
            " 6   CGPA               500 non-null    float64\n",
            " 7   Research           500 non-null    int64  \n",
            " 8   Chance of Admit    500 non-null    float64\n",
            "dtypes: float64(4), int64(5)\n",
            "memory usage: 35.3 KB\n"
          ],
          "name": "stdout"
        }
      ]
    },
    {
      "cell_type": "code",
      "metadata": {
        "id": "FXaQDXdKNHFQ",
        "colab_type": "code",
        "colab": {
          "base_uri": "https://localhost:8080/",
          "height": 300
        },
        "outputId": "e3172206-f878-470e-f38d-6ca2c881d317"
      },
      "source": [
        "add_df.describe()"
      ],
      "execution_count": 4,
      "outputs": [
        {
          "output_type": "execute_result",
          "data": {
            "text/html": [
              "<div>\n",
              "<style scoped>\n",
              "    .dataframe tbody tr th:only-of-type {\n",
              "        vertical-align: middle;\n",
              "    }\n",
              "\n",
              "    .dataframe tbody tr th {\n",
              "        vertical-align: top;\n",
              "    }\n",
              "\n",
              "    .dataframe thead th {\n",
              "        text-align: right;\n",
              "    }\n",
              "</style>\n",
              "<table border=\"1\" class=\"dataframe\">\n",
              "  <thead>\n",
              "    <tr style=\"text-align: right;\">\n",
              "      <th></th>\n",
              "      <th>Serial No.</th>\n",
              "      <th>GRE Score</th>\n",
              "      <th>TOEFL Score</th>\n",
              "      <th>University Rating</th>\n",
              "      <th>SOP</th>\n",
              "      <th>LOR</th>\n",
              "      <th>CGPA</th>\n",
              "      <th>Research</th>\n",
              "      <th>Chance of Admit</th>\n",
              "    </tr>\n",
              "  </thead>\n",
              "  <tbody>\n",
              "    <tr>\n",
              "      <th>count</th>\n",
              "      <td>500.000000</td>\n",
              "      <td>500.000000</td>\n",
              "      <td>500.000000</td>\n",
              "      <td>500.000000</td>\n",
              "      <td>500.000000</td>\n",
              "      <td>500.00000</td>\n",
              "      <td>500.000000</td>\n",
              "      <td>500.000000</td>\n",
              "      <td>500.00000</td>\n",
              "    </tr>\n",
              "    <tr>\n",
              "      <th>mean</th>\n",
              "      <td>250.500000</td>\n",
              "      <td>316.472000</td>\n",
              "      <td>107.192000</td>\n",
              "      <td>3.114000</td>\n",
              "      <td>3.374000</td>\n",
              "      <td>3.48400</td>\n",
              "      <td>8.576440</td>\n",
              "      <td>0.560000</td>\n",
              "      <td>0.72174</td>\n",
              "    </tr>\n",
              "    <tr>\n",
              "      <th>std</th>\n",
              "      <td>144.481833</td>\n",
              "      <td>11.295148</td>\n",
              "      <td>6.081868</td>\n",
              "      <td>1.143512</td>\n",
              "      <td>0.991004</td>\n",
              "      <td>0.92545</td>\n",
              "      <td>0.604813</td>\n",
              "      <td>0.496884</td>\n",
              "      <td>0.14114</td>\n",
              "    </tr>\n",
              "    <tr>\n",
              "      <th>min</th>\n",
              "      <td>1.000000</td>\n",
              "      <td>290.000000</td>\n",
              "      <td>92.000000</td>\n",
              "      <td>1.000000</td>\n",
              "      <td>1.000000</td>\n",
              "      <td>1.00000</td>\n",
              "      <td>6.800000</td>\n",
              "      <td>0.000000</td>\n",
              "      <td>0.34000</td>\n",
              "    </tr>\n",
              "    <tr>\n",
              "      <th>25%</th>\n",
              "      <td>125.750000</td>\n",
              "      <td>308.000000</td>\n",
              "      <td>103.000000</td>\n",
              "      <td>2.000000</td>\n",
              "      <td>2.500000</td>\n",
              "      <td>3.00000</td>\n",
              "      <td>8.127500</td>\n",
              "      <td>0.000000</td>\n",
              "      <td>0.63000</td>\n",
              "    </tr>\n",
              "    <tr>\n",
              "      <th>50%</th>\n",
              "      <td>250.500000</td>\n",
              "      <td>317.000000</td>\n",
              "      <td>107.000000</td>\n",
              "      <td>3.000000</td>\n",
              "      <td>3.500000</td>\n",
              "      <td>3.50000</td>\n",
              "      <td>8.560000</td>\n",
              "      <td>1.000000</td>\n",
              "      <td>0.72000</td>\n",
              "    </tr>\n",
              "    <tr>\n",
              "      <th>75%</th>\n",
              "      <td>375.250000</td>\n",
              "      <td>325.000000</td>\n",
              "      <td>112.000000</td>\n",
              "      <td>4.000000</td>\n",
              "      <td>4.000000</td>\n",
              "      <td>4.00000</td>\n",
              "      <td>9.040000</td>\n",
              "      <td>1.000000</td>\n",
              "      <td>0.82000</td>\n",
              "    </tr>\n",
              "    <tr>\n",
              "      <th>max</th>\n",
              "      <td>500.000000</td>\n",
              "      <td>340.000000</td>\n",
              "      <td>120.000000</td>\n",
              "      <td>5.000000</td>\n",
              "      <td>5.000000</td>\n",
              "      <td>5.00000</td>\n",
              "      <td>9.920000</td>\n",
              "      <td>1.000000</td>\n",
              "      <td>0.97000</td>\n",
              "    </tr>\n",
              "  </tbody>\n",
              "</table>\n",
              "</div>"
            ],
            "text/plain": [
              "       Serial No.   GRE Score  ...    Research  Chance of Admit \n",
              "count  500.000000  500.000000  ...  500.000000         500.00000\n",
              "mean   250.500000  316.472000  ...    0.560000           0.72174\n",
              "std    144.481833   11.295148  ...    0.496884           0.14114\n",
              "min      1.000000  290.000000  ...    0.000000           0.34000\n",
              "25%    125.750000  308.000000  ...    0.000000           0.63000\n",
              "50%    250.500000  317.000000  ...    1.000000           0.72000\n",
              "75%    375.250000  325.000000  ...    1.000000           0.82000\n",
              "max    500.000000  340.000000  ...    1.000000           0.97000\n",
              "\n",
              "[8 rows x 9 columns]"
            ]
          },
          "metadata": {
            "tags": []
          },
          "execution_count": 4
        }
      ]
    },
    {
      "cell_type": "code",
      "metadata": {
        "id": "iqoBR67bO2A0",
        "colab_type": "code",
        "colab": {}
      },
      "source": [
        "# removing extra index column\n",
        "add_df.drop(columns=['Serial No.'],inplace=True)"
      ],
      "execution_count": 8,
      "outputs": []
    },
    {
      "cell_type": "code",
      "metadata": {
        "id": "9d83QIpKV4Wu",
        "colab_type": "code",
        "colab": {
          "base_uri": "https://localhost:8080/",
          "height": 74
        },
        "outputId": "8805c2ca-90c0-4f33-f070-22d9ea56bb01"
      },
      "source": [
        "# renaming columns forbetter clarity\n",
        "add_df.rename(columns={'Chance of Admit ':'Chance of Admit','LOR ':'LOR'},inplace=True)\n",
        "add_df.columns"
      ],
      "execution_count": 5,
      "outputs": [
        {
          "output_type": "execute_result",
          "data": {
            "text/plain": [
              "Index(['Serial No.', 'GRE Score', 'TOEFL Score', 'University Rating', 'SOP',\n",
              "       'LOR', 'CGPA', 'Research', 'Chance of Admit'],\n",
              "      dtype='object')"
            ]
          },
          "metadata": {
            "tags": []
          },
          "execution_count": 5
        }
      ]
    },
    {
      "cell_type": "markdown",
      "metadata": {
        "id": "p5G6eLrUgzp1",
        "colab_type": "text"
      },
      "source": [
        "### Data Plots"
      ]
    },
    {
      "cell_type": "code",
      "metadata": {
        "id": "GbasmNAPNd5U",
        "colab_type": "code",
        "colab": {
          "base_uri": "https://localhost:8080/",
          "height": 689
        },
        "outputId": "f7213088-0562-4b19-cb74-932556658443"
      },
      "source": [
        "add_df.hist(bins=10,figsize=(10,8))"
      ],
      "execution_count": 6,
      "outputs": [
        {
          "output_type": "execute_result",
          "data": {
            "text/plain": [
              "array([[<matplotlib.axes._subplots.AxesSubplot object at 0x7f4d72f7c278>,\n",
              "        <matplotlib.axes._subplots.AxesSubplot object at 0x7f4d72f52518>,\n",
              "        <matplotlib.axes._subplots.AxesSubplot object at 0x7f4d72f09780>],\n",
              "       [<matplotlib.axes._subplots.AxesSubplot object at 0x7f4d72ebb9e8>,\n",
              "        <matplotlib.axes._subplots.AxesSubplot object at 0x7f4d72e6ec50>,\n",
              "        <matplotlib.axes._subplots.AxesSubplot object at 0x7f4d72e23eb8>],\n",
              "       [<matplotlib.axes._subplots.AxesSubplot object at 0x7f4d72de3160>,\n",
              "        <matplotlib.axes._subplots.AxesSubplot object at 0x7f4d72e14390>,\n",
              "        <matplotlib.axes._subplots.AxesSubplot object at 0x7f4d72e14400>]],\n",
              "      dtype=object)"
            ]
          },
          "metadata": {
            "tags": []
          },
          "execution_count": 6
        },
        {
          "output_type": "display_data",
          "data": {
            "image/png": "[encoded data removed]",
            "text/plain": [
              "<Figure size 720x576 with 9 Axes>"
            ]
          },
          "metadata": {
            "tags": [],
            "needs_background": "light"
          }
        }
      ]
    },
    {
      "cell_type": "code",
      "metadata": {
        "id": "-W0qD1kvNlSU",
        "colab_type": "code",
        "colab": {
          "base_uri": "https://localhost:8080/",
          "height": 614
        },
        "outputId": "b9c8fee5-8d18-41a0-cf3a-680d71fe0308"
      },
      "source": [
        "plt.figure(figsize = (16,10))\n",
        "sns.heatmap(add_df.corr(),annot=True,center=0, cmap=\"YlGnBu\")"
      ],
      "execution_count": 9,
      "outputs": [
        {
          "output_type": "execute_result",
          "data": {
            "text/plain": [
              "<matplotlib.axes._subplots.AxesSubplot at 0x7f4d6eacb828>"
            ]
          },
          "metadata": {
            "tags": []
          },
          "execution_count": 9
        },
        {
          "output_type": "display_data",
          "data": {
            "image/png": "[encoded data removed]",
            "text/plain": [
              "<Figure size 1152x720 with 2 Axes>"
            ]
          },
          "metadata": {
            "tags": [],
            "needs_background": "light"
          }
        }
      ]
    },
    {
      "cell_type": "markdown",
      "metadata": {
        "id": "_tusrq06PiJt",
        "colab_type": "text"
      },
      "source": [
        "We can see that all the columns have a strong positive corelation with output column\n",
        "1. GRE score is strongly co-related with TOEFL Score, reason behind this could be GRE verbal section has some similarity to TOEFL test which is also based on verbal skills\n",
        "2. GRE score is also strongly co-related with CGPA, reason behind this could be higher academic score could lead  potentially higher GRE score, same in the case of TOEFL score"
      ]
    },
    {
      "cell_type": "code",
      "metadata": {
        "id": "a-id5-1VQ4JR",
        "colab_type": "code",
        "colab": {
          "base_uri": "https://localhost:8080/",
          "height": 74
        },
        "outputId": "5f0fda1e-f243-495b-9388-91946580c294"
      },
      "source": [
        "add_df.columns"
      ],
      "execution_count": 10,
      "outputs": [
        {
          "output_type": "execute_result",
          "data": {
            "text/plain": [
              "Index(['GRE Score', 'TOEFL Score', 'University Rating', 'SOP', 'LOR', 'CGPA',\n",
              "       'Research', 'Chance of Admit'],\n",
              "      dtype='object')"
            ]
          },
          "metadata": {
            "tags": []
          },
          "execution_count": 10
        }
      ]
    },
    {
      "cell_type": "code",
      "metadata": {
        "id": "K0BZEGSPNn1M",
        "colab_type": "code",
        "colab": {
          "base_uri": "https://localhost:8080/",
          "height": 267
        },
        "outputId": "3c2fa5db-f7b5-4253-fe90-d716cefacee6"
      },
      "source": [
        "sns.pairplot(add_df, x_vars=['GRE Score', 'TOEFL Score', 'University Rating', 'SOP', 'LOR', 'CGPA',\n",
        "       'Research'],y_vars=['Chance of Admit'],height=5, aspect=0.7)"
      ],
      "execution_count": null,
      "outputs": [
        {
          "output_type": "execute_result",
          "data": {
            "text/plain": [
              "<seaborn.axisgrid.PairGrid at 0x7f78deff2860>"
            ]
          },
          "metadata": {
            "tags": []
          },
          "execution_count": 201
        },
        {
          "output_type": "display_data",
          "data": {
            "image/png": "[encoded data removed]",
            "text/plain": [
              "<Figure size 1764x360 with 7 Axes>"
            ]
          },
          "metadata": {
            "tags": [],
            "needs_background": "light"
          }
        }
      ]
    },
    {
      "cell_type": "markdown",
      "metadata": {
        "id": "KNhjOpvMfC8k",
        "colab_type": "text"
      },
      "source": [
        "Linear relation between input features and output features can be visualized"
      ]
    },
    {
      "cell_type": "code",
      "metadata": {
        "id": "0vHSRGP_TOhM",
        "colab_type": "code",
        "colab": {
          "base_uri": "https://localhost:8080/",
          "height": 403
        },
        "outputId": "eb44c838-9e09-444f-fa4c-586b6223a3b0"
      },
      "source": [
        "add_df[['Research','Chance of Admit']].groupby(by='Research').mean().sort_values(by='Chance of Admit',ascending=False).plot(kind='bar')\n",
        "add_df[['Research','Chance of Admit']].groupby(by='Research').mean().sort_values(by='Chance of Admit',ascending=False)"
      ],
      "execution_count": 16,
      "outputs": [
        {
          "output_type": "execute_result",
          "data": {
            "text/html": [
              "<div>\n",
              "<style scoped>\n",
              "    .dataframe tbody tr th:only-of-type {\n",
              "        vertical-align: middle;\n",
              "    }\n",
              "\n",
              "    .dataframe tbody tr th {\n",
              "        vertical-align: top;\n",
              "    }\n",
              "\n",
              "    .dataframe thead th {\n",
              "        text-align: right;\n",
              "    }\n",
              "</style>\n",
              "<table border=\"1\" class=\"dataframe\">\n",
              "  <thead>\n",
              "    <tr style=\"text-align: right;\">\n",
              "      <th></th>\n",
              "      <th>Chance of Admit</th>\n",
              "    </tr>\n",
              "    <tr>\n",
              "      <th>Research</th>\n",
              "      <th></th>\n",
              "    </tr>\n",
              "  </thead>\n",
              "  <tbody>\n",
              "    <tr>\n",
              "      <th>1</th>\n",
              "      <td>0.789964</td>\n",
              "    </tr>\n",
              "    <tr>\n",
              "      <th>0</th>\n",
              "      <td>0.634909</td>\n",
              "    </tr>\n",
              "  </tbody>\n",
              "</table>\n",
              "</div>"
            ],
            "text/plain": [
              "          Chance of Admit\n",
              "Research                 \n",
              "1                0.789964\n",
              "0                0.634909"
            ]
          },
          "metadata": {
            "tags": []
          },
          "execution_count": 16
        },
        {
          "output_type": "display_data",
          "data": {
            "image/png": "[encoded data removed]",
            "text/plain": [
              "<Figure size 432x288 with 1 Axes>"
            ]
          },
          "metadata": {
            "tags": [],
            "needs_background": "light"
          }
        }
      ]
    },
    {
      "cell_type": "markdown",
      "metadata": {
        "id": "WtxUWejeiVJo",
        "colab_type": "text"
      },
      "source": [
        "Students with Research experience are more likely to be admitted"
      ]
    },
    {
      "cell_type": "code",
      "metadata": {
        "id": "Od4YpXB-S8Oh",
        "colab_type": "code",
        "colab": {
          "base_uri": "https://localhost:8080/",
          "height": 497
        },
        "outputId": "0a3b053a-9e14-4977-e78c-08c41bf5f47d"
      },
      "source": [
        "add_df[['University Rating','Chance of Admit']].groupby(by='University Rating').mean().sort_values(by='Chance of Admit',ascending=False).plot(kind='bar')\n",
        "add_df[['University Rating','Chance of Admit']].groupby(by='University Rating').mean().sort_values(by='Chance of Admit',ascending=False)"
      ],
      "execution_count": 17,
      "outputs": [
        {
          "output_type": "execute_result",
          "data": {
            "text/html": [
              "<div>\n",
              "<style scoped>\n",
              "    .dataframe tbody tr th:only-of-type {\n",
              "        vertical-align: middle;\n",
              "    }\n",
              "\n",
              "    .dataframe tbody tr th {\n",
              "        vertical-align: top;\n",
              "    }\n",
              "\n",
              "    .dataframe thead th {\n",
              "        text-align: right;\n",
              "    }\n",
              "</style>\n",
              "<table border=\"1\" class=\"dataframe\">\n",
              "  <thead>\n",
              "    <tr style=\"text-align: right;\">\n",
              "      <th></th>\n",
              "      <th>Chance of Admit</th>\n",
              "    </tr>\n",
              "    <tr>\n",
              "      <th>University Rating</th>\n",
              "      <th></th>\n",
              "    </tr>\n",
              "  </thead>\n",
              "  <tbody>\n",
              "    <tr>\n",
              "      <th>5</th>\n",
              "      <td>0.888082</td>\n",
              "    </tr>\n",
              "    <tr>\n",
              "      <th>4</th>\n",
              "      <td>0.801619</td>\n",
              "    </tr>\n",
              "    <tr>\n",
              "      <th>3</th>\n",
              "      <td>0.702901</td>\n",
              "    </tr>\n",
              "    <tr>\n",
              "      <th>2</th>\n",
              "      <td>0.626111</td>\n",
              "    </tr>\n",
              "    <tr>\n",
              "      <th>1</th>\n",
              "      <td>0.562059</td>\n",
              "    </tr>\n",
              "  </tbody>\n",
              "</table>\n",
              "</div>"
            ],
            "text/plain": [
              "                   Chance of Admit\n",
              "University Rating                 \n",
              "5                         0.888082\n",
              "4                         0.801619\n",
              "3                         0.702901\n",
              "2                         0.626111\n",
              "1                         0.562059"
            ]
          },
          "metadata": {
            "tags": []
          },
          "execution_count": 17
        },
        {
          "output_type": "display_data",
          "data": {
            "image/png": "[encoded data removed]",
            "text/plain": [
              "<Figure size 432x288 with 1 Axes>"
            ]
          },
          "metadata": {
            "tags": [],
            "needs_background": "light"
          }
        }
      ]
    },
    {
      "cell_type": "markdown",
      "metadata": {
        "id": "rbvHBfGri4Vf",
        "colab_type": "text"
      },
      "source": [
        "(1 - highest and 5 - lowest)\n",
        "\n",
        "--- \n",
        "\n",
        "HIgher the University rating lower are the chances of getting admit\n",
        "\n",
        "---"
      ]
    },
    {
      "cell_type": "code",
      "metadata": {
        "id": "nGZ4NQbKwZsa",
        "colab_type": "code",
        "colab": {
          "base_uri": "https://localhost:8080/",
          "height": 631
        },
        "outputId": "22a2e4b2-7e5f-4aac-9a20-cf388b1d8206"
      },
      "source": [
        "add_df[['SOP','Chance of Admit']].groupby(by='SOP').mean().sort_values(by='Chance of Admit',ascending=False).plot(kind='bar')\n",
        "add_df[['SOP','Chance of Admit']].groupby(by='SOP').mean().sort_values(by='Chance of Admit',ascending=False)"
      ],
      "execution_count": 81,
      "outputs": [
        {
          "output_type": "execute_result",
          "data": {
            "text/html": [
              "<div>\n",
              "<style scoped>\n",
              "    .dataframe tbody tr th:only-of-type {\n",
              "        vertical-align: middle;\n",
              "    }\n",
              "\n",
              "    .dataframe tbody tr th {\n",
              "        vertical-align: top;\n",
              "    }\n",
              "\n",
              "    .dataframe thead th {\n",
              "        text-align: right;\n",
              "    }\n",
              "</style>\n",
              "<table border=\"1\" class=\"dataframe\">\n",
              "  <thead>\n",
              "    <tr style=\"text-align: right;\">\n",
              "      <th></th>\n",
              "      <th>Chance of Admit</th>\n",
              "    </tr>\n",
              "    <tr>\n",
              "      <th>SOP</th>\n",
              "      <th></th>\n",
              "    </tr>\n",
              "  </thead>\n",
              "  <tbody>\n",
              "    <tr>\n",
              "      <th>5.0</th>\n",
              "      <td>0.885000</td>\n",
              "    </tr>\n",
              "    <tr>\n",
              "      <th>4.5</th>\n",
              "      <td>0.850000</td>\n",
              "    </tr>\n",
              "    <tr>\n",
              "      <th>4.0</th>\n",
              "      <td>0.782809</td>\n",
              "    </tr>\n",
              "    <tr>\n",
              "      <th>3.5</th>\n",
              "      <td>0.712045</td>\n",
              "    </tr>\n",
              "    <tr>\n",
              "      <th>3.0</th>\n",
              "      <td>0.678500</td>\n",
              "    </tr>\n",
              "    <tr>\n",
              "      <th>2.5</th>\n",
              "      <td>0.645312</td>\n",
              "    </tr>\n",
              "    <tr>\n",
              "      <th>2.0</th>\n",
              "      <td>0.589535</td>\n",
              "    </tr>\n",
              "    <tr>\n",
              "      <th>1.5</th>\n",
              "      <td>0.546400</td>\n",
              "    </tr>\n",
              "    <tr>\n",
              "      <th>1.0</th>\n",
              "      <td>0.538333</td>\n",
              "    </tr>\n",
              "  </tbody>\n",
              "</table>\n",
              "</div>"
            ],
            "text/plain": [
              "     Chance of Admit\n",
              "SOP                 \n",
              "5.0         0.885000\n",
              "4.5         0.850000\n",
              "4.0         0.782809\n",
              "3.5         0.712045\n",
              "3.0         0.678500\n",
              "2.5         0.645312\n",
              "2.0         0.589535\n",
              "1.5         0.546400\n",
              "1.0         0.538333"
            ]
          },
          "metadata": {
            "tags": []
          },
          "execution_count": 81
        },
        {
          "output_type": "display_data",
          "data": {
            "image/png": "[encoded data removed]",
            "text/plain": [
              "<Figure size 432x288 with 1 Axes>"
            ]
          },
          "metadata": {
            "tags": [],
            "needs_background": "light"
          }
        }
      ]
    },
    {
      "cell_type": "code",
      "metadata": {
        "id": "GbsDR9Bawxfy",
        "colab_type": "code",
        "colab": {
          "base_uri": "https://localhost:8080/",
          "height": 631
        },
        "outputId": "1d108404-ebb0-47c5-b3b2-444eded007a3"
      },
      "source": [
        "add_df[['LOR','Chance of Admit']].groupby(by='LOR').mean().sort_values(by='Chance of Admit',ascending=False).plot(kind='bar')\n",
        "add_df[['LOR','Chance of Admit']].groupby(by='LOR').mean().sort_values(by='Chance of Admit',ascending=False)"
      ],
      "execution_count": 82,
      "outputs": [
        {
          "output_type": "execute_result",
          "data": {
            "text/html": [
              "<div>\n",
              "<style scoped>\n",
              "    .dataframe tbody tr th:only-of-type {\n",
              "        vertical-align: middle;\n",
              "    }\n",
              "\n",
              "    .dataframe tbody tr th {\n",
              "        vertical-align: top;\n",
              "    }\n",
              "\n",
              "    .dataframe thead th {\n",
              "        text-align: right;\n",
              "    }\n",
              "</style>\n",
              "<table border=\"1\" class=\"dataframe\">\n",
              "  <thead>\n",
              "    <tr style=\"text-align: right;\">\n",
              "      <th></th>\n",
              "      <th>Chance of Admit</th>\n",
              "    </tr>\n",
              "    <tr>\n",
              "      <th>LOR</th>\n",
              "      <th></th>\n",
              "    </tr>\n",
              "  </thead>\n",
              "  <tbody>\n",
              "    <tr>\n",
              "      <th>5.0</th>\n",
              "      <td>0.872600</td>\n",
              "    </tr>\n",
              "    <tr>\n",
              "      <th>4.5</th>\n",
              "      <td>0.831905</td>\n",
              "    </tr>\n",
              "    <tr>\n",
              "      <th>4.0</th>\n",
              "      <td>0.764149</td>\n",
              "    </tr>\n",
              "    <tr>\n",
              "      <th>3.5</th>\n",
              "      <td>0.723023</td>\n",
              "    </tr>\n",
              "    <tr>\n",
              "      <th>3.0</th>\n",
              "      <td>0.668485</td>\n",
              "    </tr>\n",
              "    <tr>\n",
              "      <th>2.5</th>\n",
              "      <td>0.640600</td>\n",
              "    </tr>\n",
              "    <tr>\n",
              "      <th>2.0</th>\n",
              "      <td>0.568261</td>\n",
              "    </tr>\n",
              "    <tr>\n",
              "      <th>1.5</th>\n",
              "      <td>0.550000</td>\n",
              "    </tr>\n",
              "    <tr>\n",
              "      <th>1.0</th>\n",
              "      <td>0.420000</td>\n",
              "    </tr>\n",
              "  </tbody>\n",
              "</table>\n",
              "</div>"
            ],
            "text/plain": [
              "     Chance of Admit\n",
              "LOR                 \n",
              "5.0         0.872600\n",
              "4.5         0.831905\n",
              "4.0         0.764149\n",
              "3.5         0.723023\n",
              "3.0         0.668485\n",
              "2.5         0.640600\n",
              "2.0         0.568261\n",
              "1.5         0.550000\n",
              "1.0         0.420000"
            ]
          },
          "metadata": {
            "tags": []
          },
          "execution_count": 82
        },
        {
          "output_type": "display_data",
          "data": {
            "image/png": "[encoded data removed]",
            "text/plain": [
              "<Figure size 432x288 with 1 Axes>"
            ]
          },
          "metadata": {
            "tags": [],
            "needs_background": "light"
          }
        }
      ]
    },
    {
      "cell_type": "markdown",
      "metadata": {
        "id": "zEu0IrHuhOwB",
        "colab_type": "text"
      },
      "source": [
        "### Scaling Data"
      ]
    },
    {
      "cell_type": "code",
      "metadata": {
        "id": "C6LhX2lQUnjP",
        "colab_type": "code",
        "colab": {}
      },
      "source": [
        "#scaling the data\n",
        "add_df_norm = add_df.copy()\n",
        "scaler = MinMaxScaler()\n",
        "column_names_to_normalize = ['CGPA', 'GRE Score', 'LOR', 'SOP','TOEFL Score']\n",
        "x = add_df_norm[column_names_to_normalize].values\n",
        "x_scaled = scaler.fit_transform(x)\n",
        "df_temp = pd.DataFrame(x_scaled, columns=column_names_to_normalize, index = add_df_norm.index)\n",
        "add_df_norm[column_names_to_normalize] = df_temp"
      ],
      "execution_count": 18,
      "outputs": []
    },
    {
      "cell_type": "code",
      "metadata": {
        "id": "xwEJ34HfUKxF",
        "colab_type": "code",
        "colab": {
          "base_uri": "https://localhost:8080/",
          "height": 689
        },
        "outputId": "b1fec51e-9208-4b5c-a7c8-231741a57c86"
      },
      "source": [
        "add_df_norm.hist(bins=10,figsize=(10,8))"
      ],
      "execution_count": 12,
      "outputs": [
        {
          "output_type": "execute_result",
          "data": {
            "text/plain": [
              "array([[<matplotlib.axes._subplots.AxesSubplot object at 0x7f4d6d1866a0>,\n",
              "        <matplotlib.axes._subplots.AxesSubplot object at 0x7f4d6d061fd0>,\n",
              "        <matplotlib.axes._subplots.AxesSubplot object at 0x7f4d6d0242b0>],\n",
              "       [<matplotlib.axes._subplots.AxesSubplot object at 0x7f4d6cfd8518>,\n",
              "        <matplotlib.axes._subplots.AxesSubplot object at 0x7f4d6cf8a780>,\n",
              "        <matplotlib.axes._subplots.AxesSubplot object at 0x7f4d6cfbe9e8>],\n",
              "       [<matplotlib.axes._subplots.AxesSubplot object at 0x7f4d6cf73c50>,\n",
              "        <matplotlib.axes._subplots.AxesSubplot object at 0x7f4d6cf27e80>,\n",
              "        <matplotlib.axes._subplots.AxesSubplot object at 0x7f4d6cf27ef0>]],\n",
              "      dtype=object)"
            ]
          },
          "metadata": {
            "tags": []
          },
          "execution_count": 12
        },
        {
          "output_type": "display_data",
          "data": {
            "image/png": "[encoded data removed]",
            "text/plain": [
              "<Figure size 720x576 with 9 Axes>"
            ]
          },
          "metadata": {
            "tags": [],
            "needs_background": "light"
          }
        }
      ]
    },
    {
      "cell_type": "markdown",
      "metadata": {
        "id": "WyEesy0qrr0J",
        "colab_type": "text"
      },
      "source": [
        "### Models"
      ]
    },
    {
      "cell_type": "code",
      "metadata": {
        "id": "Ms_PO5UfnPcG",
        "colab_type": "code",
        "colab": {}
      },
      "source": [
        "add_df1 = add_df_norm.copy()\n",
        "y = add_df1['Chance of Admit']\n",
        "add_df1.drop(columns=['Chance of Admit'],inplace=True)"
      ],
      "execution_count": 131,
      "outputs": []
    },
    {
      "cell_type": "code",
      "metadata": {
        "id": "mz4y_2_inPqS",
        "colab_type": "code",
        "colab": {}
      },
      "source": [
        "X_train, X_test, y_train, y_test = train_test_split(add_df1, y, test_size=0.2,random_state=1)"
      ],
      "execution_count": 132,
      "outputs": []
    },
    {
      "cell_type": "markdown",
      "metadata": {
        "id": "2UL95loot8mt",
        "colab_type": "text"
      },
      "source": [
        "#### Linear Models"
      ]
    },
    {
      "cell_type": "markdown",
      "metadata": {
        "id": "LeaRnL8suA1f",
        "colab_type": "text"
      },
      "source": [
        "##### Linear Regression"
      ]
    },
    {
      "cell_type": "code",
      "metadata": {
        "id": "szOGHFL_WYFM",
        "colab_type": "code",
        "colab": {
          "base_uri": "https://localhost:8080/",
          "height": 36
        },
        "outputId": "ef011743-5f12-4f78-b5ba-b952c86e6ad4"
      },
      "source": [
        "model1 = Pipeline([('scaler',MinMaxScaler()),('clf',linear_model.LinearRegression())])\n",
        "\n",
        "model1.fit(X_train, y_train)\n",
        "pred = model1.predict(X_test)\n",
        "\n",
        "MSE = metrics.mean_squared_error(y_test, pred)\n",
        "RMSE = np.sqrt(MSE)\n",
        "Rsq = metrics.r2_score(y_test, pred)\n",
        "\n",
        "print(\"MSE:{}  RMSE:{}  R-Squared:{}\".format(MSE,RMSE,Rsq))\n"
      ],
      "execution_count": 133,
      "outputs": [
        {
          "output_type": "stream",
          "text": [
            "MSE:0.0034590988971363824  RMSE:0.05881410457650769  R-Squared:0.8208741703103732\n"
          ],
          "name": "stdout"
        }
      ]
    },
    {
      "cell_type": "code",
      "metadata": {
        "id": "TTCzMOsgYtWw",
        "colab_type": "code",
        "colab": {
          "base_uri": "https://localhost:8080/",
          "height": 640
        },
        "outputId": "3a46fb40-f859-4bd3-df2f-818cb33229fc"
      },
      "source": [
        "coef_df1 = pd.DataFrame(zip(X_train.columns,model1.named_steps['clf'].coef_),columns=['Feature','Coefficient'])\n",
        "coef_df1.sort_values(by='Coefficient',inplace=True, ascending=False)\n",
        "\n",
        "plt.figure(figsize = (10,6))\n",
        "sns.barplot(x='Feature',y='Coefficient',data=coef_df1)\n",
        "coef_df1"
      ],
      "execution_count": 134,
      "outputs": [
        {
          "output_type": "execute_result",
          "data": {
            "text/html": [
              "<div>\n",
              "<style scoped>\n",
              "    .dataframe tbody tr th:only-of-type {\n",
              "        vertical-align: middle;\n",
              "    }\n",
              "\n",
              "    .dataframe tbody tr th {\n",
              "        vertical-align: top;\n",
              "    }\n",
              "\n",
              "    .dataframe thead th {\n",
              "        text-align: right;\n",
              "    }\n",
              "</style>\n",
              "<table border=\"1\" class=\"dataframe\">\n",
              "  <thead>\n",
              "    <tr style=\"text-align: right;\">\n",
              "      <th></th>\n",
              "      <th>Feature</th>\n",
              "      <th>Coefficient</th>\n",
              "    </tr>\n",
              "  </thead>\n",
              "  <tbody>\n",
              "    <tr>\n",
              "      <th>5</th>\n",
              "      <td>CGPA</td>\n",
              "      <td>0.364117</td>\n",
              "    </tr>\n",
              "    <tr>\n",
              "      <th>0</th>\n",
              "      <td>GRE Score</td>\n",
              "      <td>0.091612</td>\n",
              "    </tr>\n",
              "    <tr>\n",
              "      <th>1</th>\n",
              "      <td>TOEFL Score</td>\n",
              "      <td>0.088870</td>\n",
              "    </tr>\n",
              "    <tr>\n",
              "      <th>4</th>\n",
              "      <td>LOR</td>\n",
              "      <td>0.050494</td>\n",
              "    </tr>\n",
              "    <tr>\n",
              "      <th>2</th>\n",
              "      <td>University Rating</td>\n",
              "      <td>0.024515</td>\n",
              "    </tr>\n",
              "    <tr>\n",
              "      <th>6</th>\n",
              "      <td>Research</td>\n",
              "      <td>0.019890</td>\n",
              "    </tr>\n",
              "    <tr>\n",
              "      <th>3</th>\n",
              "      <td>SOP</td>\n",
              "      <td>0.012020</td>\n",
              "    </tr>\n",
              "  </tbody>\n",
              "</table>\n",
              "</div>"
            ],
            "text/plain": [
              "             Feature  Coefficient\n",
              "5               CGPA     0.364117\n",
              "0          GRE Score     0.091612\n",
              "1        TOEFL Score     0.088870\n",
              "4                LOR     0.050494\n",
              "2  University Rating     0.024515\n",
              "6           Research     0.019890\n",
              "3                SOP     0.012020"
            ]
          },
          "metadata": {
            "tags": []
          },
          "execution_count": 134
        },
        {
          "output_type": "display_data",
          "data": {
            "image/png": "[encoded data removed]",
            "text/plain": [
              "<Figure size 720x432 with 1 Axes>"
            ]
          },
          "metadata": {
            "tags": [],
            "needs_background": "light"
          }
        }
      ]
    },
    {
      "cell_type": "code",
      "metadata": {
        "id": "TFxOmWJbyfzt",
        "colab_type": "code",
        "colab": {}
      },
      "source": [
        "#model without SOP considering score\n",
        "add_df2 = add_df_norm.copy()\n",
        "y = add_df2['Chance of Admit']\n",
        "add_df2.drop(columns=['Chance of Admit','SOP'],inplace=True)\n",
        "\n",
        "X_train1, X_test1, y_train1, y_test1 = train_test_split(add_df2, y, test_size=0.2,random_state=1)\n",
        "\n",
        "\n"
      ],
      "execution_count": 135,
      "outputs": []
    },
    {
      "cell_type": "code",
      "metadata": {
        "id": "XGRP5K5S22_9",
        "colab_type": "code",
        "colab": {
          "base_uri": "https://localhost:8080/",
          "height": 36
        },
        "outputId": "546f392a-7730-4ac2-80de-df6b62099e25"
      },
      "source": [
        "# we can use the same model1 from above\n",
        "\n",
        "model1.fit(X_train1, y_train1)\n",
        "pred = model1.predict(X_test1)\n",
        "\n",
        "MSE = metrics.mean_squared_error(y_test1, pred)\n",
        "RMSE = np.sqrt(MSE)\n",
        "Rsq = metrics.r2_score(y_test1, pred)\n",
        "\n",
        "print(\"MSE:{}  RMSE:{}  R-Squared:{}\".format(MSE,RMSE,Rsq))"
      ],
      "execution_count": 136,
      "outputs": [
        {
          "output_type": "stream",
          "text": [
            "MSE:0.0034477260004029614  RMSE:0.058717339861432426  R-Squared:0.8214631039095355\n"
          ],
          "name": "stdout"
        }
      ]
    },
    {
      "cell_type": "markdown",
      "metadata": {
        "id": "Kxd4KCfBxT73",
        "colab_type": "text"
      },
      "source": [
        ""
      ]
    },
    {
      "cell_type": "markdown",
      "metadata": {
        "id": "U_3CNASSzNcj",
        "colab_type": "text"
      },
      "source": [
        "\n",
        " <table>\n",
        "  <tr>\n",
        "    <th>Columns</th>\n",
        "    <th>RMSE</th>\n",
        "    <th>R-squared</th>\n",
        "  </tr>\n",
        "  <tr>\n",
        "    <th>With SOP</th>\n",
        "    <td>0.058814</td>\n",
        "    <td>0.82087</td>\n",
        "  </tr>\n",
        "  <tr>\n",
        "    <th>Without SOP</th>\n",
        "    <td>0.058717</td>\n",
        "    <td>0.82146</td>\n",
        "  </tr>\n",
        "</table> \n",
        "\n"
      ]
    },
    {
      "cell_type": "markdown",
      "metadata": {
        "id": "wUnIOLX8y_xK",
        "colab_type": "text"
      },
      "source": [
        "Our model performs slightly better without considering SOP score"
      ]
    },
    {
      "cell_type": "markdown",
      "metadata": {
        "id": "PHe4mk_5sIOI",
        "colab_type": "text"
      },
      "source": [
        "Therefore, CGPA is the most important factor for higher admit chances and SOP score is the least important feature"
      ]
    },
    {
      "cell_type": "markdown",
      "metadata": {
        "id": "VJCTq2B3uMgs",
        "colab_type": "text"
      },
      "source": [
        "##### SVM regressor"
      ]
    },
    {
      "cell_type": "code",
      "metadata": {
        "id": "T-hybAnVuKUI",
        "colab_type": "code",
        "colab": {
          "base_uri": "https://localhost:8080/",
          "height": 36
        },
        "outputId": "5522b8f7-c4f4-461a-ce2f-3dbb7576beaa"
      },
      "source": [
        "model2 = Pipeline([('scaler',MinMaxScaler()),('clf',SVR(kernel='linear'))])\n",
        "\n",
        "model2.fit(X_train1, y_train1)\n",
        "pred = model2.predict(X_test1)\n",
        "\n",
        "MSE = metrics.mean_squared_error(y_test1, pred)\n",
        "RMSE = np.sqrt(MSE)\n",
        "Rsq = metrics.r2_score(y_test1, pred)\n",
        "\n",
        "print(\"MSE:{}  RMSE:{}  R-Squared:{}\".format(MSE,RMSE,Rsq))\n"
      ],
      "execution_count": 140,
      "outputs": [
        {
          "output_type": "stream",
          "text": [
            "MSE:0.00394142475787421  RMSE:0.06278076742023954  R-Squared:0.7958974285187608\n"
          ],
          "name": "stdout"
        }
      ]
    },
    {
      "cell_type": "code",
      "metadata": {
        "id": "2nIYcT_huIJa",
        "colab_type": "code",
        "colab": {
          "base_uri": "https://localhost:8080/",
          "height": 609
        },
        "outputId": "fbb99cd5-3d6b-49aa-9d86-a97aa800b99c"
      },
      "source": [
        "coef_df2 = pd.DataFrame(zip(X_train.columns,model2.named_steps['clf'].coef_[0]),columns=['Feature','Coefficient'])\n",
        "coef_df2.sort_values(by='Coefficient',inplace=True, ascending=False)\n",
        "\n",
        "plt.figure(figsize = (10,6))\n",
        "sns.barplot(x='Feature',y='Coefficient',data=coef_df2)\n",
        "coef_df2"
      ],
      "execution_count": 141,
      "outputs": [
        {
          "output_type": "execute_result",
          "data": {
            "text/html": [
              "<div>\n",
              "<style scoped>\n",
              "    .dataframe tbody tr th:only-of-type {\n",
              "        vertical-align: middle;\n",
              "    }\n",
              "\n",
              "    .dataframe tbody tr th {\n",
              "        vertical-align: top;\n",
              "    }\n",
              "\n",
              "    .dataframe thead th {\n",
              "        text-align: right;\n",
              "    }\n",
              "</style>\n",
              "<table border=\"1\" class=\"dataframe\">\n",
              "  <thead>\n",
              "    <tr style=\"text-align: right;\">\n",
              "      <th></th>\n",
              "      <th>Feature</th>\n",
              "      <th>Coefficient</th>\n",
              "    </tr>\n",
              "  </thead>\n",
              "  <tbody>\n",
              "    <tr>\n",
              "      <th>4</th>\n",
              "      <td>LOR</td>\n",
              "      <td>0.312285</td>\n",
              "    </tr>\n",
              "    <tr>\n",
              "      <th>1</th>\n",
              "      <td>TOEFL Score</td>\n",
              "      <td>0.141358</td>\n",
              "    </tr>\n",
              "    <tr>\n",
              "      <th>0</th>\n",
              "      <td>GRE Score</td>\n",
              "      <td>0.079839</td>\n",
              "    </tr>\n",
              "    <tr>\n",
              "      <th>3</th>\n",
              "      <td>SOP</td>\n",
              "      <td>0.055947</td>\n",
              "    </tr>\n",
              "    <tr>\n",
              "      <th>2</th>\n",
              "      <td>University Rating</td>\n",
              "      <td>0.024091</td>\n",
              "    </tr>\n",
              "    <tr>\n",
              "      <th>5</th>\n",
              "      <td>CGPA</td>\n",
              "      <td>0.015036</td>\n",
              "    </tr>\n",
              "  </tbody>\n",
              "</table>\n",
              "</div>"
            ],
            "text/plain": [
              "             Feature  Coefficient\n",
              "4                LOR     0.312285\n",
              "1        TOEFL Score     0.141358\n",
              "0          GRE Score     0.079839\n",
              "3                SOP     0.055947\n",
              "2  University Rating     0.024091\n",
              "5               CGPA     0.015036"
            ]
          },
          "metadata": {
            "tags": []
          },
          "execution_count": 141
        },
        {
          "output_type": "display_data",
          "data": {
            "image/png": "[encoded data removed]",
            "text/plain": [
              "<Figure size 720x432 with 1 Axes>"
            ]
          },
          "metadata": {
            "tags": [],
            "needs_background": "light"
          }
        }
      ]
    },
    {
      "cell_type": "code",
      "metadata": {
        "id": "7sNphblI2w0U",
        "colab_type": "code",
        "colab": {}
      },
      "source": [
        ""
      ],
      "execution_count": 141,
      "outputs": []
    },
    {
      "cell_type": "markdown",
      "metadata": {
        "id": "KwaIkxpj1JWi",
        "colab_type": "text"
      },
      "source": [
        "#### Tree based Models"
      ]
    },
    {
      "cell_type": "code",
      "metadata": {
        "id": "qCr4ryKDiPRc",
        "colab_type": "code",
        "colab": {
          "base_uri": "https://localhost:8080/",
          "height": 36
        },
        "outputId": "678c14a1-13f7-4b03-ca52-d3ecbe146f68"
      },
      "source": [
        "model3 = make_pipeline(DecisionTreeRegressor())\n",
        "\n",
        "model3.fit(X_train1, y_train1)\n",
        "pred = model4.predict(X_test1)\n",
        "\n",
        "MSE = metrics.mean_squared_error(y_test1, pred)\n",
        "RMSE = np.sqrt(metrics.mean_squared_error(y_test1, pred))\n",
        "\n",
        "Rsq = metrics.r2_score(y_test1, pred)\n",
        "\n",
        "print(\"MSE:{}  RMSE:{}  R-Squared:{}\".format(MSE,RMSE,Rsq))\n"
      ],
      "execution_count": 147,
      "outputs": [
        {
          "output_type": "stream",
          "text": [
            "MSE:0.004594926725000001  RMSE:0.06778588883388637  R-Squared:0.7620565105380352\n"
          ],
          "name": "stdout"
        }
      ]
    },
    {
      "cell_type": "code",
      "metadata": {
        "id": "m5VjZ9dQiPLP",
        "colab_type": "code",
        "colab": {
          "base_uri": "https://localhost:8080/",
          "height": 36
        },
        "outputId": "649b5187-036c-4443-9391-10c9ac221c62"
      },
      "source": [
        "model4 = make_pipeline(RandomForestRegressor(random_state=1,n_estimators= 200))\n",
        "\n",
        "model4.fit(X_train1, y_train1)\n",
        "pred = model4.predict(X_test1)\n",
        "\n",
        "MSE = metrics.mean_squared_error(y_test1, pred)\n",
        "RMSE = np.sqrt(metrics.mean_squared_error(y_test1, pred))\n",
        "\n",
        "Rsq = metrics.r2_score(y_test1, pred)\n",
        "\n",
        "print(\"MSE:{}  RMSE:{}  R-Squared:{}\".format(MSE,RMSE,Rsq))\n"
      ],
      "execution_count": 145,
      "outputs": [
        {
          "output_type": "stream",
          "text": [
            "MSE:0.004594926725000001  RMSE:0.06778588883388637  R-Squared:0.7620565105380352\n"
          ],
          "name": "stdout"
        }
      ]
    },
    {
      "cell_type": "code",
      "metadata": {
        "id": "0xdRcOUziPI5",
        "colab_type": "code",
        "colab": {
          "base_uri": "https://localhost:8080/",
          "height": 36
        },
        "outputId": "942c2b9c-35d1-4409-f55d-a70e193d87cc"
      },
      "source": [
        "model5 = make_pipeline(ExtraTreesRegressor())\n",
        "\n",
        "model5.fit(X_train, y_train)\n",
        "pred = model5.predict(X_test)\n",
        "\n",
        "MSE = metrics.mean_squared_error(y_test, pred)\n",
        "RMSE = np.sqrt(metrics.mean_squared_error(y_test, pred))\n",
        "Rsq = metrics.r2_score(y_test, pred)\n",
        "\n",
        "\n",
        "print(\"MSE:{}  RMSE:{}  R-Squared:{}\".format(MSE,RMSE,Rsq))\n"
      ],
      "execution_count": 146,
      "outputs": [
        {
          "output_type": "stream",
          "text": [
            "MSE:0.004522371499999998  RMSE:0.06724857991065683  R-Squared:0.7658137072135054\n"
          ],
          "name": "stdout"
        }
      ]
    },
    {
      "cell_type": "markdown",
      "metadata": {
        "id": "YVsEv1Tg_ZFF",
        "colab_type": "text"
      },
      "source": [
        "### Result"
      ]
    },
    {
      "cell_type": "markdown",
      "metadata": {
        "id": "BKeKyNvN_dBh",
        "colab_type": "text"
      },
      "source": [
        "By far Simple Linear Regression performs the best to estimate the chances of admit\n",
        "- Training accuracy of the model can be improved with additinal data \n",
        "- Boosting algorithms and regularization can also be used "
      ]
    },
    {
      "cell_type": "code",
      "metadata": {
        "id": "OAeHeCqWtcWJ",
        "colab_type": "code",
        "colab": {}
      },
      "source": [
        ""
      ],
      "execution_count": null,
      "outputs": []
    }
  ]
}